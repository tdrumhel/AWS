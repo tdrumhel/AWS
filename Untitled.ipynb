{
 "cells": [
  {
   "cell_type": "code",
   "execution_count": 1,
   "metadata": {
    "collapsed": false
   },
   "outputs": [
    {
     "name": "stderr",
     "output_type": "stream",
     "text": [
      "/Users/tyler/anaconda/lib/python2.7/site-packages/matplotlib/font_manager.py:273: UserWarning: Matplotlib is building the font cache using fc-list. This may take a moment.\n",
      "  warnings.warn('Matplotlib is building the font cache using fc-list. This may take a moment.')\n"
     ]
    }
   ],
   "source": [
    "import Stock_Data\n",
    "import numpy as np\n",
    "from matplotlib import pyplot as plt\n",
    "import pandas as pd"
   ]
  },
  {
   "cell_type": "code",
   "execution_count": null,
   "metadata": {
    "collapsed": false
   },
   "outputs": [
    {
     "name": "stderr",
     "output_type": "stream",
     "text": [
      "/Users/tyler/anaconda/lib/python2.7/site-packages/pandas/io/data.py:35: FutureWarning: \n",
      "The pandas.io.data module is moved to a separate package (pandas-datareader) and will be removed from pandas in a future version.\n",
      "After installing the pandas-datareader package (https://github.com/pydata/pandas-datareader), you can change the import ``from pandas.io import data, wb`` to ``from pandas_datareader import data, wb``.\n",
      "  FutureWarning)\n",
      "/Users/tyler/anaconda/lib/python2.7/site-packages/ipykernel/__main__.py:4: FutureWarning: pd.rolling_mean is deprecated for Series and will be removed in a future version, replace with \n",
      "\tSeries.rolling(window=40,center=False).mean()\n",
      "/Users/tyler/anaconda/lib/python2.7/site-packages/ipykernel/__main__.py:5: FutureWarning: pd.rolling_mean is deprecated for Series and will be removed in a future version, replace with \n",
      "\tSeries.rolling(window=80,center=False).mean()\n",
      "/Users/tyler/anaconda/lib/python2.7/site-packages/ipykernel/__main__.py:6: FutureWarning: pd.rolling_mean is deprecated for Series and will be removed in a future version, replace with \n",
      "\tSeries.rolling(window=120,center=False).mean()\n"
     ]
    }
   ],
   "source": [
    "f = Stock_Data.Stock_Data(\"COF\", \"2010-01-01\", \"2016-08-01\")\n",
    "\n",
    "f[\"Date\"] = f.index\n",
    "f['40_Day'] = pd.rolling_mean(f[\"Close\"],40)\n",
    "f['80_Day'] = pd.rolling_mean(f[\"Close\"],80)\n",
    "f['120_Day'] = pd.rolling_mean(f[\"Close\"],120)\n",
    "\n",
    "Dates = f[\"Date\"]\n",
    "Close = f[\"Close\"]\n",
    "Forty_Day = f[\"40_Day\"]\n",
    "Eighty_Day = f[\"80_Day\"]\n",
    "OneTwenty_Day = f[\"120_Day\"]\n",
    "\n",
    "\n",
    "plt.plot(Dates, Close)\n",
    "plt.plot(Dates, Forty_Day)\n",
    "plt.plot(Dates, Eighty_Day)\n",
    "plt.plot(Dates, OneTwenty_Day)\n",
    "plt.show()"
   ]
  },
  {
   "cell_type": "code",
   "execution_count": null,
   "metadata": {
    "collapsed": true
   },
   "outputs": [],
   "source": [
    "for Date in f[\"Date\"]:\n",
    "\n",
    "    portfolio = {}\n",
    "\n",
    "    if f[\"Close\"][Date] > f[\"40_Day\"][Date]:\n",
    "        portfolio[Date] = [\"Buy\",100*f[\"Close\"][Date]]\n",
    "    print Date, f[\"Close\"], f[\"40_Day\"]\n",
    "    #if f[\"Close\"][Date] <= f[\"120_Day\"][Date]:\n",
    "    #    sold_stock += 100*f[\"Close\"][Date]\n",
    "\n",
    "print portfolio\n",
    "\n"
   ]
  },
  {
   "cell_type": "code",
   "execution_count": null,
   "metadata": {
    "collapsed": true
   },
   "outputs": [],
   "source": []
  }
 ],
 "metadata": {
  "anaconda-cloud": {},
  "kernelspec": {
   "display_name": "Python [Root]",
   "language": "python",
   "name": "Python [Root]"
  },
  "language_info": {
   "codemirror_mode": {
    "name": "ipython",
    "version": 2
   },
   "file_extension": ".py",
   "mimetype": "text/x-python",
   "name": "python",
   "nbconvert_exporter": "python",
   "pygments_lexer": "ipython2",
   "version": "2.7.12"
  }
 },
 "nbformat": 4,
 "nbformat_minor": 0
}
