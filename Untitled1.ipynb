{
 "cells": [
  {
   "cell_type": "code",
   "execution_count": 1,
   "metadata": {
    "collapsed": true
   },
   "outputs": [],
   "source": [
    "def Stock_Data(ticker, start_date, end_date, source = 'google'):\n",
    "\n",
    "    import pandas.io.data as web\n",
    "    import datetime\n",
    "    import pandas as pd\n",
    "\n",
    "    f = web.DataReader(ticker, source, start_date, end_date)\n",
    "    f['Date'] = pd.to_datetime(f.index,'%m/%d/%y')\n",
    "    f['date_index'] = ((f['Date'] - f.index.min())/np.timedelta64(1, 'D')).astype(int)\n",
    "    f['40_Day'] = pd.rolling_mean(f[\"Close\"],40)\n",
    "    f['80_Day'] = pd.rolling_mean(f[\"Close\"],80)\n",
    "    f['120_Day'] = pd.rolling_mean(f[\"Close\"],120)\n",
    "    f['40_Flag'] = np.where(f['Close'] > f['40_Day'], 1, 0)\n",
    "    f['120_Flag'] = np.where(f['Close'] < f['120_Day'], 1, 0)\n",
    "\n",
    "    return f"
   ]
  },
  {
   "cell_type": "code",
   "execution_count": 2,
   "metadata": {
    "collapsed": false
   },
   "outputs": [
    {
     "name": "stderr",
     "output_type": "stream",
     "text": [
      "/Users/tyler/anaconda/lib/python2.7/site-packages/matplotlib/font_manager.py:273: UserWarning: Matplotlib is building the font cache using fc-list. This may take a moment.\n",
      "  warnings.warn('Matplotlib is building the font cache using fc-list. This may take a moment.')\n",
      "/Users/tyler/anaconda/lib/python2.7/site-packages/pandas/io/data.py:35: FutureWarning: \n",
      "The pandas.io.data module is moved to a separate package (pandas-datareader) and will be removed from pandas in a future version.\n",
      "After installing the pandas-datareader package (https://github.com/pydata/pandas-datareader), you can change the import ``from pandas.io import data, wb`` to ``from pandas_datareader import data, wb``.\n",
      "  FutureWarning)\n",
      "/Users/tyler/anaconda/lib/python2.7/site-packages/ipykernel/__main__.py:10: FutureWarning: pd.rolling_mean is deprecated for Series and will be removed in a future version, replace with \n",
      "\tSeries.rolling(window=40,center=False).mean()\n",
      "/Users/tyler/anaconda/lib/python2.7/site-packages/ipykernel/__main__.py:11: FutureWarning: pd.rolling_mean is deprecated for Series and will be removed in a future version, replace with \n",
      "\tSeries.rolling(window=80,center=False).mean()\n",
      "/Users/tyler/anaconda/lib/python2.7/site-packages/ipykernel/__main__.py:12: FutureWarning: pd.rolling_mean is deprecated for Series and will be removed in a future version, replace with \n",
      "\tSeries.rolling(window=120,center=False).mean()\n"
     ]
    }
   ],
   "source": [
    "#import Stock_Data\n",
    "import numpy as np\n",
    "from matplotlib import pyplot as plt\n",
    "import pandas as pd\n",
    "import datetime\n",
    "\n",
    "f = Stock_Data(\"COF\", \"2010-01-01\", \"2016-08-01\")"
   ]
  },
  {
   "cell_type": "code",
   "execution_count": 3,
   "metadata": {
    "collapsed": false
   },
   "outputs": [],
   "source": [
    "def Transactions(f):\n",
    "\n",
    "    buy_indicator = 0\n",
    "    transactions = {}\n",
    "    Last_Transaction_Index = 0\n",
    "    \n",
    "    #Determining when to Buy and Sell\n",
    "    for index, row in f.iterrows():\n",
    "        if row['40_Flag'] == 1 and buy_indicator == 0:\n",
    "            transactions[row['Date']] = [row['Close'], 'Buy']\n",
    "            Last_Transaction_Index = row['date_index']\n",
    "            buy_indicator = 1\n",
    "        if row['120_Flag'] == 1 and buy_indicator == 1 and row['date_index'] - Last_Transaction_Index > 1:\n",
    "            transactions[row['Date']] = [row['Close'], 'Sell']\n",
    "            buy_indicator = 0\n",
    "            \n",
    "    Buy_Total = 0\n",
    "    Sell_Total = 0\n",
    "    Buy_Count = 0\n",
    "    Sell_Count = 0\n",
    "\n",
    "    for key in transactions:\n",
    "        if transactions[key][1] == 'Buy':\n",
    "            Buy_Total += transactions[key][0]*100\n",
    "            Buy_Count += 1\n",
    "        elif transactions[key][1] == 'Sell':\n",
    "            Sell_Total += transactions[key][0]*100\n",
    "            Sell_Count += 1\n",
    "    return Buy_Total, Sell_Total, Sell_Total - Buy_Total, Buy_Count, Sell_Count, transactions\n",
    "        "
   ]
  },
  {
   "cell_type": "code",
   "execution_count": 4,
   "metadata": {
    "collapsed": false
   },
   "outputs": [],
   "source": [
    "Buy_Total, Sell_Total, profit, Buy_Count, Sell_Count, transactions = Transactions(f)"
   ]
  },
  {
   "cell_type": "code",
   "execution_count": 6,
   "metadata": {
    "collapsed": false
   },
   "outputs": [],
   "source": [
    "Buy_Dates = [(x,transactions[x][0]) for x in transactions if transactions[x][1] == 'Buy']\n",
    "Buy_Dates.sort()\n",
    "Sell_Dates = [(x,transactions[x][0]) for x in transactions if transactions[x][1] == 'Sell']\n",
    "Sell_Dates.sort()"
   ]
  },
  {
   "cell_type": "code",
   "execution_count": null,
   "metadata": {
    "collapsed": false
   },
   "outputs": [],
   "source": [
    "plt.scatter(*zip(*Buy_Dates))\n",
    "plt.title('Random Figure')\n",
    "plt.xlabel('X-Axis')\n",
    "plt.ylabel('Y-Axis')\n",
    "plt.show()"
   ]
  },
  {
   "cell_type": "code",
   "execution_count": null,
   "metadata": {
    "collapsed": true
   },
   "outputs": [],
   "source": []
  }
 ],
 "metadata": {
  "anaconda-cloud": {},
  "kernelspec": {
   "display_name": "Python [Root]",
   "language": "python",
   "name": "Python [Root]"
  },
  "language_info": {
   "codemirror_mode": {
    "name": "ipython",
    "version": 2
   },
   "file_extension": ".py",
   "mimetype": "text/x-python",
   "name": "python",
   "nbconvert_exporter": "python",
   "pygments_lexer": "ipython2",
   "version": "2.7.12"
  }
 },
 "nbformat": 4,
 "nbformat_minor": 0
}
